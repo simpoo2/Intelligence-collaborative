{
 "cells": [
  {
   "cell_type": "code",
   "execution_count": 1,
   "metadata": {},
   "outputs": [],
   "source": [
    "%load_ext autoreload\n",
    "%autoreload 3\n",
    "%aimport ga_process\n",
    "%aimport ga_model\n",
    "%aimport ga_load"
   ]
  },
  {
   "cell_type": "code",
   "execution_count": 4,
   "metadata": {},
   "outputs": [],
   "source": [
    "from statistics import median\n",
    "from ga_model import*\n",
    "from ga_process import*\n",
    "from ga_load import*\n",
    "\n",
    "def init_vrpga():\n",
    "    chromosome_modele=customers['CUSTOMER_CODE'].unique().tolist()\n",
    "    len_chromosome=len(chromosome_modele)\n",
    "\n",
    "    num_generation=2\n",
    "    population=[]\n",
    "    rate_mutation=0.05\n",
    "    num_parent=4\n",
    "    num_pop=20\n",
    "\n",
    "    penalty_wrong_chromosome=1000000\n",
    "    penalty_car_road=1000\n",
    "    penalty_late=100\n",
    "    penalty_volumn=10\n",
    "    penalty_weight=10\n",
    "    cost_per_car=500\n",
    "    cost_per_km=10\n",
    "\n",
    "    vrp=VRP(load_customers(customers),load_vehicle(vehicles,vehicles['VEHICLE_CODE'].unique()))\n",
    "    modele_genetic=Modele_genetic(chromosome_modele,len_chromosome,penalty_wrong_chromosome,penalty_car_road,penalty_late,penalty_volumn,penalty_weight,cost_per_car,cost_per_km)\n",
    "    vrp_ga=VRP_GA(modele_genetic,num_generation,population,rate_mutation,num_parent,num_pop,chromosome_modele,vrp)\n",
    "    vrp_ga.initialize_population(num_pop,chromosome_modele)\n",
    "\n",
    "    for i in range(num_generation):\n",
    "        vrp_ga.evolution()\n",
    "\n",
    "    return vrp_ga\n",
    "\n",
    "def step(vrp_ga):\n",
    "    vrp_ga.evolution()\n"
   ]
  },
  {
   "cell_type": "code",
   "execution_count": 5,
   "metadata": {},
   "outputs": [],
   "source": [
    "instance=init_vrpga()"
   ]
  },
  {
   "cell_type": "code",
   "execution_count": null,
   "metadata": {},
   "outputs": [],
   "source": []
  }
 ],
 "metadata": {
  "kernelspec": {
   "display_name": "Python 3 (ipykernel)",
   "language": "python",
   "name": "python3"
  },
  "language_info": {
   "codemirror_mode": {
    "name": "ipython",
    "version": 3
   },
   "file_extension": ".py",
   "mimetype": "text/x-python",
   "name": "python",
   "nbconvert_exporter": "python",
   "pygments_lexer": "ipython3",
   "version": "3.10.2"
  }
 },
 "nbformat": 4,
 "nbformat_minor": 2
}
